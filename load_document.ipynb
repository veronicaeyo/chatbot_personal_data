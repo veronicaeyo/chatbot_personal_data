{
 "cells": [
  {
   "cell_type": "markdown",
   "metadata": {},
   "source": [
    "## **Load Document** $\\rightarrow$ Split Document $\\rightarrow$ Storage $\\rightarrow$ retrieval $\\rightarrow$ Storage Output"
   ]
  },
  {
   "cell_type": "markdown",
   "metadata": {},
   "source": [
    "![Steps](image.jpg)"
   ]
  },
  {
   "cell_type": "markdown",
   "metadata": {},
   "source": [
    "[Author](https://veronicaeyo.github.io/)"
   ]
  },
  {
   "cell_type": "markdown",
   "metadata": {},
   "source": [
    "### Load Document"
   ]
  },
  {
   "cell_type": "code",
   "execution_count": 3,
   "metadata": {},
   "outputs": [],
   "source": [
    "from langchain.document_loaders import PyPDFLoader\n",
    "from pprint import pprint\n",
    "import os\n",
    "from dotenv import load_dotenv\n"
   ]
  },
  {
   "cell_type": "code",
   "execution_count": 33,
   "metadata": {},
   "outputs": [
    {
     "data": {
      "text/plain": [
       "True"
      ]
     },
     "execution_count": 33,
     "metadata": {},
     "output_type": "execute_result"
    }
   ],
   "source": [
    "load_dotenv()"
   ]
  },
  {
   "cell_type": "code",
   "execution_count": 2,
   "metadata": {},
   "outputs": [],
   "source": [
    "\n",
    "loader = PyPDFLoader(\"morin.pdf\")\n",
    "pages = loader.load()"
   ]
  },
  {
   "cell_type": "code",
   "execution_count": 9,
   "metadata": {},
   "outputs": [
    {
     "data": {
      "text/plain": [
       "11"
      ]
     },
     "execution_count": 9,
     "metadata": {},
     "output_type": "execute_result"
    }
   ],
   "source": [
    "len(pages)"
   ]
  },
  {
   "cell_type": "code",
   "execution_count": 10,
   "metadata": {},
   "outputs": [],
   "source": [
    "page_6= pages[5]"
   ]
  },
  {
   "cell_type": "code",
   "execution_count": 11,
   "metadata": {},
   "outputs": [
    {
     "data": {
      "text/plain": [
       "{'source': 'morin.pdf', 'page': 5}"
      ]
     },
     "execution_count": 11,
     "metadata": {},
     "output_type": "execute_result"
    }
   ],
   "source": [
    "page_6.metadata"
   ]
  },
  {
   "cell_type": "code",
   "execution_count": 12,
   "metadata": {},
   "outputs": [
    {
     "data": {
      "text/plain": [
       "'Quinoa Ingredients1 (1-pound) salmon ﬁllet 1 teaspoon kosher salt 2 teaspoons sugar, divided 1 1/2 cups sake, divided 1/2 teaspoon chili paste 2 garlic cloves, minced 1 cup quinoa 1 teaspoon butter 1 1/2 teaspoons olive oil, divided 1/2 cup ﬁnely chopped red bell pepper 1/2 cup ﬁnely chopped carrot 1/4 cup ﬁnely chopped onion 1 cup water 1/2 cup orange juice 1/4 teaspoon salt 1 tablespoon chopped fresh parsley PreparationPlace salmon, skin side down, on a plate. Combine 1 teaspoon kosher salt and 1 tea-spoon sugar; rub salt mixture evenly over skinned sides of salmon. Cover with plas-tic wrap; chill 2 hours.Remove plastic wrap from salmon. Rinse salmon under cold water; pat dry with pa-per towel. Combine 1 cup sake, remain-ing 1 teaspoon sugar, chili paste, and gar-lic in a zip-top plastic bag. Add salmon; seal and marinate in refrigerator 1 hour, turning occasionally .Place quinoa in a ﬁne sieve; place sieve in a large bowl. Cover quinoa with water. Using your hands, rub grains together for 30 seconds; rinse and drain. Repeat pro-cedure twice. Drain well.Heat butter and 1 teaspoon olive oil in a medium saucepan over medium-high heat until butter melts. Add pepper, car-rot, and onion to pan; sauté 2 minutes or until onion is tender. Add quinoa; cook 1 minute, stirring constantly . Stir in 1 cup water, remaining 1/2 cup sake, juice, and 1/4 teaspoon salt; bring to a boil. Cover, reduce heat, and simmer 20 minutes or until liquid is absorbed and quinoa is ten-der. Remove from heat; ﬂuﬀ with a fork. Stir in parsley . Keep warm.Preheat oven to 450°.Remove salmon from bag, reserving mari-nade. Place marinade in a small saucepan over medium-high heat, and cook until reduced to 2 tablespoons (about 7 min-utes).Brush skinned sides of salmon with re-maining 1/2 teaspoon oil. Heat an oven-proof skillet over medium-high heat. Add salmon to pan, skin side up; cook 3 minutes or until golden brown. Turn salmon over, and baste with reduced marinade. Place pan in oven, and bake at 450° for 5 minutes or until ﬁsh ﬂakes eas-ily when tested with a fork or until de-sired degree of doneness. Serve immedi-ately with quinoa5'"
      ]
     },
     "execution_count": 12,
     "metadata": {},
     "output_type": "execute_result"
    }
   ],
   "source": [
    "page_6.page_content"
   ]
  },
  {
   "cell_type": "code",
   "execution_count": null,
   "metadata": {},
   "outputs": [],
   "source": []
  },
  {
   "cell_type": "code",
   "execution_count": 13,
   "metadata": {},
   "outputs": [
    {
     "name": "stdout",
     "output_type": "stream",
     "text": [
      "('Quinoa Ingredients1 (1-pound) salmon ﬁllet 1 teaspoon kosher salt 2 '\n",
      " 'teaspoons sugar, divided 1 1/2 cups sake, divided 1/2 teaspoon chili paste 2 '\n",
      " 'garlic cloves, minced 1 cup quinoa 1 teaspoon butter 1 1/2 teaspoons olive '\n",
      " 'oil, divided 1/2 cup ﬁnely chopped red bell pepper 1/2 cup ﬁnely chopped '\n",
      " 'carrot 1/4 cup ﬁnely chopped onion 1 cup water 1/2 cup orange juice 1/4 '\n",
      " 'teaspoon salt 1 tablespoon chopped fresh parsley PreparationPlace salmon, '\n",
      " 'skin side down, on a plate. Combine 1 teaspoon kosher salt and 1 tea-spoon '\n",
      " 'sugar; rub salt mixture evenly over skinned sides of salmon. Cover with '\n",
      " 'plas-tic wrap; chill 2 hours.Remove plastic wrap from salmon. Rinse salmon '\n",
      " 'under cold water; pat dry with pa-per towel. Combine 1 cup sake, remain-ing '\n",
      " '1 teaspoon sugar, chili paste, and gar-lic in a zip-top plastic bag. Add '\n",
      " 'salmon; seal and marinate in refrigerator 1 hour, turning occasionally '\n",
      " '.Place quinoa in a ﬁne sieve; place sieve in a large bowl. Cover quinoa with '\n",
      " 'water. Using your hands, rub grains together for 30 seconds; rinse and '\n",
      " 'drain. Repeat pro-cedure twice. Drain well.Heat butter and 1 teaspoon olive '\n",
      " 'oil in a medium saucepan over medium-high heat until butter melts. Add '\n",
      " 'pepper, car-rot, and onion to pan; sauté 2 minutes or until onion is tender. '\n",
      " 'Add quinoa; cook 1 minute, stirring constantly . Stir in 1 cup water, '\n",
      " 'remaining 1/2 cup sake, juice, and 1/4 teaspoon salt; bring to a boil. '\n",
      " 'Cover, reduce heat, and simmer 20 minutes or until liquid is absorbed and '\n",
      " 'quinoa is ten-der. Remove from heat; ﬂuﬀ with a fork. Stir in parsley . Keep '\n",
      " 'warm.Preheat oven to 450°.Remove salmon from bag, reserving mari-nade. Place '\n",
      " 'marinade in a small saucepan over medium-high heat, and cook until reduced '\n",
      " 'to 2 tablespoons (about 7 min-utes).Brush skinned sides of salmon with '\n",
      " 're-maining 1/2 teaspoon oil. Heat an oven-proof skillet over medium-high '\n",
      " 'heat. Add salmon to pan, skin side up; cook 3 minutes or until golden brown. '\n",
      " 'Turn salmon over, and baste with reduced marinade. Place pan in oven, and '\n",
      " 'bake at 450° for 5 minutes or until ﬁsh ﬂakes eas-ily when tested with a '\n",
      " 'fork or until de-sired degree of doneness. Serve immedi-ately with quinoa5')\n"
     ]
    }
   ],
   "source": [
    "pprint(page_6.page_content)"
   ]
  },
  {
   "cell_type": "code",
   "execution_count": 14,
   "metadata": {},
   "outputs": [
    {
     "name": "stdout",
     "output_type": "stream",
     "text": [
      "('Quinoa Ingredients1 (1-pound) salmon ﬁllet 1 teaspoon kosher salt 2 '\n",
      " 'teaspoons sugar, divided 1 1/2 cups sake, divided 1/2 teaspoon chili paste 2 '\n",
      " 'garlic cloves, minced 1 cup quinoa 1 teaspoon butter 1 1/2 teaspoons olive '\n",
      " 'oil, divided 1/2 cup ﬁnely chopped red bell pepper 1/2 cup ﬁnely chopped '\n",
      " 'carrot 1/4 cup ﬁnely chopped onion 1 cup water 1/2 cup orange juice 1/4 '\n",
      " 'teaspoon salt 1 tablespoon chopped fresh parsley PreparationPlace salmon, '\n",
      " 'skin side down, on a plate. Combine 1 teaspoon kosher salt and 1 tea-spoon '\n",
      " 'sugar; rub salt mixture evenly over skinned sides of salmon. Cover with '\n",
      " 'plas-tic wrap; chill 2 hours.Remove plastic wrap from salmon. Rinse salmon '\n",
      " 'under cold water; pat dry with pa-per towel. Combine 1 cup sake, remain-ing '\n",
      " '1 teaspoon sugar, chili paste, and gar-lic in a zip-top plastic bag. Add '\n",
      " 'salmon; seal and marinate in refrigerator 1 hour, turning occasionally '\n",
      " '.Place quinoa in a ﬁne sieve; place sieve in a large bowl. Cover quinoa with '\n",
      " 'water. Using your hands, rub grains together for 30 seconds; rinse and '\n",
      " 'drain. Repeat pro-cedure twice. Drain well.Heat butter and 1 teaspoon olive '\n",
      " 'oil in a medium saucepan over medium-high heat until butter melts. Add '\n",
      " 'pepper, car-rot, and onion to pan; sauté 2 minutes or until onion is tender. '\n",
      " 'Add quinoa; cook 1 minute, stirring constantly . Stir in 1 cup water, '\n",
      " 'remaining 1/2 cup sake, juice, and 1/4 teaspoon salt; bring to a boil. '\n",
      " 'Cover, reduce heat, and simmer 20 minutes or until liquid is absorbed and '\n",
      " 'quinoa is ten-der. Remove from heat; ﬂuﬀ with a fork. Stir in parsley . Keep '\n",
      " 'warm.Preheat oven to 450°.Remove salmon from bag, reserving mari-nade. Place '\n",
      " 'marinade in a small saucepan over medium-high heat, and cook until reduced '\n",
      " 'to 2 tablespoons (about 7 min-utes).Brush skinned sides of salmon with '\n",
      " 're-maining 1/2 teaspoon oil. Heat an oven-proof skillet over medium-high '\n",
      " 'heat. Add salmon to pan, skin side up; cook 3 minutes or until golden brown. '\n",
      " 'Turn salmon over, and baste with reduced marinade. Place pan in oven, and '\n",
      " 'bake at ')\n"
     ]
    }
   ],
   "source": [
    "pprint(page_6.page_content[0:2000])"
   ]
  },
  {
   "cell_type": "code",
   "execution_count": null,
   "metadata": {},
   "outputs": [],
   "source": [
    "\n"
   ]
  },
  {
   "cell_type": "markdown",
   "metadata": {},
   "source": [
    "#### Youtube link"
   ]
  },
  {
   "cell_type": "code",
   "execution_count": 10,
   "metadata": {},
   "outputs": [],
   "source": [
    "import openai\n",
    "\n",
    "from langchain.document_loaders.generic import GenericLoader\n",
    "from langchain.document_loaders.parsers import OpenAIWhisperParser\n",
    "from langchain.document_loaders.blob_loaders.youtube_audio import YoutubeAudioLoader"
   ]
  },
  {
   "cell_type": "code",
   "execution_count": 31,
   "metadata": {},
   "outputs": [],
   "source": [
    "# set openai API key\n",
    "openai.api_key = os.getenv(\"API_KEY\")"
   ]
  },
  {
   "cell_type": "code",
   "execution_count": 5,
   "metadata": {},
   "outputs": [
    {
     "name": "stdout",
     "output_type": "stream",
     "text": [
      "[youtube] Extracting URL: https://www.youtube.com/watch?v=8jpbA2NLsW0\n",
      "[youtube] 8jpbA2NLsW0: Downloading webpage\n",
      "[youtube] 8jpbA2NLsW0: Downloading ios player API JSON\n",
      "[youtube] 8jpbA2NLsW0: Downloading android player API JSON\n",
      "[youtube] 8jpbA2NLsW0: Downloading m3u8 information\n",
      "[info] 8jpbA2NLsW0: Downloading 1 format(s): 140\n",
      "[download] youtube\\Laughter Council Outstanding Comic Performance Earns Her 200k From Ini Edo and a Loud Ovation ｜ DTH.m4a has already been downloaded\n",
      "[download] 100% of    4.80MiB\n",
      "[ExtractAudio] Not converting audio youtube\\Laughter Council Outstanding Comic Performance Earns Her 200k From Ini Edo and a Loud Ovation ｜ DTH.m4a; file is already in target format m4a\n",
      "Transcribing part 1!\n"
     ]
    }
   ],
   "source": [
    "url=\"https://www.youtube.com/watch?v=8jpbA2NLsW0\"\n",
    "save_dir=\"youtube/\"\n",
    "loader = GenericLoader(\n",
    "    YoutubeAudioLoader([url],save_dir),\n",
    "    OpenAIWhisperParser()\n",
    ")\n",
    "docs = loader.load()"
   ]
  },
  {
   "cell_type": "code",
   "execution_count": 6,
   "metadata": {},
   "outputs": [
    {
     "data": {
      "text/plain": [
       "[Document(page_content=\"Yonai Jasmin, Espress Nigel Good evening ladies and men to jen Please, you who should try to answer me Please, let me just start again Comedians are already crying on the backyard So let's not go through that lane When I agree, you who should try to respond Let's go again Good evening ladies and men to jen Thank you for supporting a fatherless child God bless you Let me come here Can you see me? I'm a very short and down to earth somebody If I go to the centre, it's only my bonnet you will see Good evening judges Well, guys, I just came here to tell you about school You see, I'm not a fan of public school Private school, sorry, come again Private school, do you know why? They have to rest often You hear things like, oh my God, mummy Angelina just pinched me Look at that, I went to a public school So my life is a public figure Can't you see you all? Thank you So now this time, I believe Dr. Sid went to that same school Now that time, would they say, who you be? I don't draw lines, chuka we can cross this line We go to school properly dressed But how we come back, mamamane they always like Leave your shots, we plenty for this table Let me just leave it at this point When I come back next time, we go do payback He who fights, I run away Thank you so very much, everybody Laughter Council Yes, sir For your information, I went to a private school He said that you don't laugh Laughter You know, you were very amazing at the auditions I think all of us unanimously, you know, felt that You needed to be in the main show You've come here today with all the trials and everything And you still in this short few minutes Have made us laugh and entertained us Applause It is a testament to how uniquely talented you are Thank you We all know this year's competition is very high If you keep this level and try to raise it every single week I don't see any reason why you won't be in the finals Well done, amazing performance today Thank you so much, sir So why are you familiar? Because I was in this, you know In Angus, I need a recharge card in my life I just realized I need a recharge card in my life You agree with me, right? Laughter I'm a fan I'm a fan You are something else You are wahala Good one And just keep raising the bar So if I just become more familiar, I know where I got you More familiar spirit already Laughter Oh my goodness Okay, so I'm proud of you I'm a fan of you Thank you I see that you're going to go places You have a unique talent You came here in spite of the obstacles or whatever happened Your showmanship, you held it together You went, you came back, you delivered You're on a follow-come Oh, wow, what a life You understand? You understand what I'm saying? He's in your body He's in my body? He's in your body So you don't have to do too much He's just coming out like that He's right there Because of that, I want to give you a 200,000 Cheering Don't despise my little beginning That's how we get started Pick it up Laughter Thank you Screaming Thank you all Amazing I'm so proud Well done Laughter Council Yes, sir So Luckily for you You find yourself in an industry That has very little female comedians Why is it luckily for you? It's because you're outstanding Which means that All you need is the opportunity To showcase your talent And you are there Your own spot is there waiting for you Thank you so much\", metadata={'source': 'youtube\\\\Laughter Council Outstanding Comic Performance Earns Her 200k From Ini Edo and a Loud Ovation ｜ DTH.m4a', 'chunk': 0})]"
      ]
     },
     "execution_count": 6,
     "metadata": {},
     "output_type": "execute_result"
    }
   ],
   "source": [
    "docs"
   ]
  },
  {
   "cell_type": "code",
   "execution_count": 8,
   "metadata": {},
   "outputs": [
    {
     "data": {
      "text/plain": [
       "\"Yonai Jasmin, Espress Nigel Good evening ladies and men to jen Please, you who should try to answer me Please, let me just start again Comedians are already crying on the backyard So let's not go through that lane When I agree, you who should try to respond Let's go again Good evening ladies and men to jen Thank you for supporting a fatherless child God bless you Let me come here Can you see me? I'm a very short and down to earth somebody If I go to the centre, it's only my bonnet you will see Good evening judges Well, guys, I just came here to tell you about school You see, I'm not a fan of public school Private school, sorry, come again Private school, do you know why? They have to rest often You hear things like, oh my God, mummy Angelina just pinched me Look at that, I went to a public school So my life is a public figure Can't you see you all? Thank you So now this time, I believe Dr. Sid went to that same school Now that time, would they say, who you be? I don't draw lines, chuka we can cross this line We go to school properly dressed But how we come back, mamamane they always like Leave your shots, we plenty for this table Let me just leave it at this point When I come back next time, we go do payback He who fights, I run away Thank you so very much, everybody Laughter Council Yes, sir For your information, I went to a private school He said that you don't laugh Laughter You know, you were very amazing at the auditions I think all of us unanimously, you know, felt that You needed to be in the main show You've come here today with all the trials and everything And you still in this short few minutes Have made us laugh and entertained us Applause It is a testament to how uniquely talented you are Thank you We all know this year's competition is very high If you keep this level and try to raise it every single week I don't see any reason why you won't be in the finals Well done, amazing performance today Thank you so much, sir So why are you familiar? Because I was in this, you know In Angus, I need a recharge card in my life I just realized I need a recharge card in my life You agree with me, right? Laughter I'm a fan I'm a fan You are something else You are wahala Good one And just keep raising the bar So if I just become more familiar, I know where I got you More familiar spirit already Laughter Oh my goodness Okay, so I'm proud of you I'm a fan of you Thank you I see that you're going to go places You have a unique talent You came here in spite of the obstacles or whatever happened Your showmanship, you held it together You went, you came back, you delivered You're on a follow-come Oh, wow, what a life You understand? You understand what I'm saying? He's in your body He's in my body? He's in your body So you don't have to do too much He's just coming out like that He's right there Because of that, I want to give you a 200,000 Cheering Don't despise my little beginning That's how we get started Pick it up Laughter Thank you Screaming Thank you all Amazing I'm so proud Well done Laughter Council Yes, sir So Luckily for you You find yourself in an industry That has very little female comedians Why is it luckily for you? It's because you're outstanding Which means that All you need is the opportunity To showcase your talent And you are there Your own spot is there waiting for you Thank you so much\""
      ]
     },
     "execution_count": 8,
     "metadata": {},
     "output_type": "execute_result"
    }
   ],
   "source": [
    "docs[0].page_content"
   ]
  },
  {
   "cell_type": "markdown",
   "metadata": {},
   "source": [
    "### Website"
   ]
  },
  {
   "cell_type": "code",
   "execution_count": 22,
   "metadata": {},
   "outputs": [],
   "source": [
    "from langchain.document_loaders import WebBaseLoader\n",
    "\n",
    "\n",
    "loader = WebBaseLoader(\"https://www.promptingguide.ai/introduction/settings\")"
   ]
  },
  {
   "cell_type": "code",
   "execution_count": 25,
   "metadata": {},
   "outputs": [],
   "source": [
    "pages  = loader.load()"
   ]
  },
  {
   "cell_type": "code",
   "execution_count": null,
   "metadata": {},
   "outputs": [
    {
     "data": {
      "text/plain": [
       "[Document(page_content=\"Prompt Engineering Guide | Prompt Engineering Guide Prompt Engineering GuidePrompt Engineering CoursePrompt Engineering CourseServicesServicesAboutAboutGitHubGitHub (opens in a new tab)DiscordDiscord (opens in a new tab)Prompt EngineeringIntroductionLLM SettingsBasics of PromptingPrompt ElementsGeneral Tips for Designing PromptsExamples of PromptsTechniquesZero-shot PromptingFew-shot PromptingChain-of-Thought PromptingSelf-ConsistencyGenerate Knowledge PromptingTree of ThoughtsRetrieval Augmented GenerationAutomatic Reasoning and Tool-useAutomatic Prompt EngineerActive-PromptDirectional Stimulus PromptingReActMultimodal CoTGraph PromptingApplicationsProgram-Aided Language ModelsGenerating DataGenerating CodeGraduate Job Classification Case StudyPrompt FunctionModelsFlanChatGPTLLaMAGPT-4LLM CollectionRisks & MisusesAdversarial PromptingFactualityBiasesPapersToolsNotebooksDatasetsAdditional ReadingsPrompt EngineeringIntroductionLLM SettingsBasics of PromptingPrompt ElementsGeneral Tips for Designing PromptsExamples of PromptsTechniquesZero-shot PromptingFew-shot PromptingChain-of-Thought PromptingSelf-ConsistencyGenerate Knowledge PromptingTree of ThoughtsRetrieval Augmented GenerationAutomatic Reasoning and Tool-useAutomatic Prompt EngineerActive-PromptDirectional Stimulus PromptingReActMultimodal CoTGraph PromptingApplicationsProgram-Aided Language ModelsGenerating DataGenerating CodeGraduate Job Classification Case StudyPrompt FunctionModelsFlanChatGPTLLaMAGPT-4LLM CollectionRisks & MisusesAdversarial PromptingFactualityBiasesPapersToolsNotebooksDatasetsAdditional ReadingsPrompt Engineering CourseServicesAboutEnglishlightQuestion? Give us feedback → (opens in a new tab)Edit this pagePrompt EngineeringPrompt Engineering Guide\\nPrompt engineering is a relatively new discipline for developing and optimizing prompts to efficiently use language models (LMs) for a wide variety of applications and research topics. Prompt engineering skills help to better understand the capabilities and limitations of large language models (LLMs).\\nResearchers use prompt engineering to improve the capacity of LLMs on a wide range of common and complex tasks such as question answering and arithmetic reasoning. Developers use prompt engineering to design robust and effective prompting techniques that interface with LLMs and other tools.\\nPrompt engineering is not just about designing and developing prompts. It encompasses a wide range of skills and techniques that are useful for interacting and developing with LLMs. It's an important skill to interface, build with, and understand capabilities of LLMs. You can use prompt engineering to improve safety of LLMs and build new capabilities like augmenting LLMs with domain knowledge and external tools.\\nMotivated by the high interest in developing with LLMs, we have created this new prompt engineering guide that contains all the latest papers, learning guides, models, lectures, references, new LLM capabilities, and tools related to prompt engineering.\\n\\nDue to high demand, we've partnered with Maven to deliver a new cohort-based course on Prompt Engineering for LLMs (opens in a new tab).\\nElvis Saravia (opens in a new tab), who has worked at companies like Meta AI and Elastic, and has years of experience in AI and LLMs, will be the instructor for this course.\\nThis hands-on course will cover prompt engineering techniques/tools, use cases, exercises, and projects for effectively working and building with large language models (LLMs).\\nOur past learners range from software engineers to AI researchers and practitioners in organizations like LinkedIn, Amazon, JPMorgan Chase & Co., Intuit, Fidelity Investments, Coinbase, Guru, and many others.IntroductionEnglishlightCopyright © 2023 DAIR.AI\", metadata={'source': 'https://www.promptingguide.ai/', 'title': 'Prompt Engineering Guide | Prompt Engineering Guide ', 'language': 'en'})]"
      ]
     },
     "execution_count": 19,
     "metadata": {},
     "output_type": "execute_result"
    }
   ],
   "source": [
    "pages"
   ]
  },
  {
   "cell_type": "code",
   "execution_count": 26,
   "metadata": {},
   "outputs": [
    {
     "data": {
      "text/plain": [
       "1"
      ]
     },
     "execution_count": 26,
     "metadata": {},
     "output_type": "execute_result"
    }
   ],
   "source": [
    "len(pages)"
   ]
  },
  {
   "cell_type": "code",
   "execution_count": 27,
   "metadata": {},
   "outputs": [
    {
     "name": "stdout",
     "output_type": "stream",
     "text": [
      "LLM Settings | Prompt Engineering Guide Prompt Engineering GuidePrompt Engineering CoursePrompt Engineering CourseServicesServicesAboutAboutGitHubGitHub (opens in a new tab)DiscordDiscord (opens in a new tab)Prompt EngineeringIntroductionLLM SettingsBasics of PromptingPrompt ElementsGeneral Tips for Designing PromptsExamples of PromptsTechniquesZero-shot PromptingFew-shot PromptingChain-of-Thought PromptingSelf-ConsistencyGenerate Knowledge PromptingTree of ThoughtsRetrieval Augmented GenerationAutomatic Reasoning and Tool-useAutomatic Prompt EngineerActive-PromptDirectional Stimulus PromptingReActMultimodal CoTGraph PromptingApplicationsProgram-Aided Language ModelsGenerating DataGenerating CodeGraduate Job Classification Case StudyPrompt FunctionModelsFlanChatGPTLLaMAGPT-4LLM CollectionRisks & MisusesAdversarial PromptingFactualityBiasesPapersToolsNotebooksDatasetsAdditional ReadingsPrompt EngineeringIntroductionLLM SettingsBasics of PromptingPrompt ElementsGeneral Tips for Designing PromptsExamples of PromptsTechniquesZero-shot PromptingFew-shot PromptingChain-of-Thought PromptingSelf-ConsistencyGenerate Knowledge PromptingTree of ThoughtsRetrieval Augmented GenerationAutomatic Reasoning and Tool-useAutomatic Prompt EngineerActive-PromptDirectional Stimulus PromptingReActMultimodal CoTGraph PromptingApplicationsProgram-Aided Language ModelsGenerating DataGenerating CodeGraduate Job Classification Case StudyPrompt FunctionModelsFlanChatGPTLLaMAGPT-4LLM CollectionRisks & MisusesAdversarial PromptingFactualityBiasesPapersToolsNotebooksDatasetsAdditional ReadingsPrompt Engineering CourseServicesAboutEnglishlightQuestion? Give us feedback → (opens in a new tab)Edit this pageIntroductionLLM SettingsLLM Settings\n",
      "When working with prompts, you interact with the LLM via an API or directly. You can configure a few parameters to get different results for your prompts.\n",
      "Temperature - In short, the lower the temperature, the more deterministic the results in the sense that the highest probable next token is always picked. Increasing temperature could lead to more randomness, which encourages more diverse or creative outputs. You are essentially increasing the weights of the other possible tokens. In terms of application, you might want to use a lower temperature value for tasks like fact-based QA to encourage more factual and concise responses. For poem generation or other creative tasks, it might be beneficial to increase the temperature value.\n",
      "Top_p - Similarly, with top_p, a sampling technique with temperature called nucleus sampling, you can control how deterministic the model is at generating a response. If you are looking for exact and factual answers keep this low. If you are looking for more diverse responses, increase to a higher value.\n",
      "The general recommendation is to alter one, not both.\n",
      "Before starting with some basic examples, keep in mind that your results may vary depending on the version of LLM you use.IntroductionBasics of PromptingEnglishlightCopyright © 2023 DAIR.AI\n"
     ]
    }
   ],
   "source": [
    "print(pages[0].page_content)"
   ]
  },
  {
   "cell_type": "markdown",
   "metadata": {},
   "source": [
    "### From Notion"
   ]
  },
  {
   "cell_type": "code",
   "execution_count": 3,
   "metadata": {},
   "outputs": [],
   "source": [
    "from langchain.document_loaders import NotionDirectoryLoader\n",
    "loader = NotionDirectoryLoader(\"docs/notion_db\")\n",
    "docs = loader.load()"
   ]
  },
  {
   "cell_type": "code",
   "execution_count": 4,
   "metadata": {},
   "outputs": [
    {
     "data": {
      "text/plain": [
       "[Document(page_content=\"# Blendle's Employee Handbook\\n\\nThis is a living document with everything we've learned working with people while running a startup. And, of course, we continue to learn. Therefore it's a document that will continue to change. \\n\\n**Everything related to working at Blendle and the people of Blendle, made public.**\\n\\nThese are the lessons from three years of working with the people of Blendle. It contains everything from [how our leaders lead](https://www.notion.so/ecfb7e647136468a9a0a32f1771a8f52?pvs=21) to [how we increase salaries](https://www.notion.so/Salary-Review-e11b6161c6d34f5c9568bb3e83ed96b6?pvs=21), from [how we hire](https://www.notion.so/Hiring-451bbcfe8d9b49438c0633326bb7af0a?pvs=21) and [fire](https://www.notion.so/Firing-5567687a2000496b8412e53cd58eed9d?pvs=21) to [how we think people should give each other feedback](https://www.notion.so/Our-Feedback-Process-eb64f1de796b4350aeab3bc068e3801f?pvs=21) — and much more.\\n\\nWe've made this document public because we want to learn from you. We're very much interested in your feedback (including weeding out typo's and Dunglish ;)). Email us at hr@blendle.com. If you're starting your own company or if you're curious as to how we do things at Blendle, we hope that our employee handbook inspires you.\\n\\nIf you want to work at Blendle you can check our [job ads here](https://blendle.homerun.co/). If you want to be kept in the loop about Blendle, you can sign up for [our behind the scenes newsletter](https://blendle.homerun.co/yes-keep-me-posted/tr/apply?token=8092d4128c306003d97dd3821bad06f2).\\n\\n## Blendle general\\n\\n*Information gap closing in 3... 2... 1...*\\n\\n---\\n\\n[To Do/Read in your first week](https://www.notion.so/To-Do-Read-in-your-first-week-c43a6a3033ce4eb0b69f813e216d12f2?pvs=21)\\n\\n[History](https://www.notion.so/History-798f3ff9b1d84c61bd01510fda514a18?pvs=21)\\n\\n[DNA & culture](https://www.notion.so/DNA-culture-0a5718be19cb4405ba9c800c67203169?pvs=21)\\n\\n[General & practical ](https://www.notion.so/General-practical-f119b5a8717f4cc884e0af2681eb5675?pvs=21)\\n\\n## People operations\\n\\n*You can tell a company's DNA by looking at how they deal with the practical stuff.*  \\n\\n---\\n\\n[Office](https://www.notion.so/Office-d3311af198ea43dbaf2b34e387b34c7a?pvs=21)\\n\\n[Time off: holidays and national holidays](https://www.notion.so/Time-off-holidays-and-national-holidays-5d63665d27ac4de5be34e3c2a344e579?pvs=21)\\n\\n[Calling in sick/better](https://www.notion.so/Calling-in-sick-better-26a51621a7d9438ebf927d4097a2a3c4?pvs=21)\\n\\n[Perks and benefits](https://www.notion.so/Perks-and-benefits-188c204ca3c14520852e72b239dc5cd0?pvs=21)\\n\\n[Travel costs and reimbursements](https://www.notion.so/Travel-costs-and-reimbursements-91d807ca227e4210853dad06a1bbd19f?pvs=21)\\n\\n[Parenthood](https://www.notion.so/Parenthood-7c42b05bdad74024afe0b586ab789cb6?pvs=21)\\n\\n## People topics\\n\\n*Themes we care about.*\\n\\n---\\n\\n[Blendle Social Code](https://www.notion.so/Blendle-Social-Code-3e2f1aadf7594bc795765abe093f07c5?pvs=21)\\n\\n[Diversity and inclusion](https://www.notion.so/Diversity-and-inclusion-cbfe80b72b8943ca884bd4a1031dc339?pvs=21)\\n\\n[#letstalkaboutstress](https://www.notion.so/letstalkaboutstress-998d93229c824169a4fa9d43a0864ea7?pvs=21)\\n\\n## Feedback and development\\n\\n*The number 1 reason for people to work at Blendle is growth and learning from smart people.*\\n\\n---\\n\\n[Your 1st month ](https://www.notion.so/Your-1st-month-7af34936997b46698cf36c94e45af180?pvs=21)\\n\\n[Goals](https://www.notion.so/Goals-35f6817b4f5e4bf7bf4053bc9ca5d56e?pvs=21)\\n\\n[Feedback cycle](https://www.notion.so/Feedback-cycle-083e9a42b4984c1e864941d0c2b6f019?pvs=21)\\n\\n[The Matrix™ (job profiles)](https://www.notion.so/The-Matrix-job-profiles-2c46855b5dfa4ef4bd1e38d7b383e7ac?pvs=21)\\n\\n[Blendle library](https://www.notion.so/Blendle-library-52ca31cc17c9400799851910c0a50331?pvs=21)\\n\\n## **Hiring**\\n\\n*The coolest and most impactful thing when done right.*\\n\\n---\\n\\n[Rating systems](https://www.notion.so/Rating-systems-d6547cb445d049cba3b65fb03133197a?pvs=21)\\n\\n[Getting people in (branding&sourcing)](https://www.notion.so/Getting-people-in-branding-sourcing-55df638324bd469ea258308b74228b37?pvs=21)\\n\\n[Highly Skilled Migrants and relocation](https://www.notion.so/Highly-Skilled-Migrants-and-relocation-5ec5e2ccccd94dfe96758090bf1d251c?pvs=21)\\n\\n## How to lead at Blendle\\n\\n*Here are some tips and tools to help you become a great leader.*\\n\\n---\\n\\n[How to lead at Blendle ](https://www.notion.so/How-to-lead-at-Blendle-6b0d240046a14b9e8996c5dca9fb89e2?pvs=21)\\n\\n[Your check-list](https://www.notion.so/Your-check-list-2f40a09b458b422493121c20262219e4?pvs=21)\\n\\n[Leading Feedback ](https://www.notion.so/Leading-Feedback-2bb74d9bf83144ada9a65164dcb19dfa?pvs=21)\\n\\n[Salary talks](https://www.notion.so/Salary-talks-6abe1ba46bde49938808a4448ca8f4bd?pvs=21)\\n\\n[Hiring ](https://www.notion.so/Hiring-ca27f4094840415fadd9103cc5f5cc3f?pvs=21)\\n\\n[Firing](https://www.notion.so/Firing-b4f58e8700db4376ae739bd4a59cfe11?pvs=21)\\n\\n[Party and study budget](https://www.notion.so/Party-and-study-budget-c48402adfc53495687ab012a15e39399?pvs=21)\\n\\n[Holidays](https://www.notion.so/Holidays-798243337d164bd5b5a02ba940c3c9af?pvs=21)\\n\\n[Sickness absence](https://www.notion.so/Sickness-absence-36ae158e0b2e47fcbb259a7fa4fc92d9?pvs=21)\\n\\n[Personal User Guide](https://www.notion.so/Personal-User-Guide-9084969600c448faad222d2c993d1969?pvs=21)\\n\\n[Soft shizzle](https://www.notion.so/Soft-shizzle-a80541ee6acf44489d24b4391f66ea3f?pvs=21)\\n\\n## About this document\\n\\n---\\n\\n*Lessons from three years of HR*\\n\\n[About this document and the author](https://www.notion.so/About-this-document-and-the-author-c9074a5cfd744935bdaea2e954d2427e?pvs=21)\", metadata={'source': \"docs\\\\notion_db\\\\Blendle's Employee Handbook f027b25aa2b14069850d5d551e84c3ac.md\"})]"
      ]
     },
     "execution_count": 4,
     "metadata": {},
     "output_type": "execute_result"
    }
   ],
   "source": [
    "docs"
   ]
  },
  {
   "cell_type": "code",
   "execution_count": 5,
   "metadata": {},
   "outputs": [
    {
     "data": {
      "text/plain": [
       "\"# Blendle's Employee Handbook\\n\\nThis is a living document with everything we've learned working with people while running a startup. And, of course, we continue to learn. Therefore it's a document that will continue to change. \\n\\n**Everything related to working at Blendle and the people of Blendle, made public.**\\n\\nThese are the lessons from three years of working with the people of Blendle. It contains everything from [how our leaders lead](https://www.notion.so/ecfb7e647136468a9a0a32f1771a8f52?pvs=21) to [how we increase salaries](https://www.notion.so/Salary-Review-e11b6161c6d34f5c9568bb3e83ed96b6?pvs=21), from [how we hire](https://www.notion.so/Hiring-451bbcfe8d9b49438c0633326bb7af0a?pvs=21) and [fire](https://www.notion.so/Firing-5567687a2000496b8412e53cd58eed9d?pvs=21) to [how we think people should give each other feedback](https://www.notion.so/Our-Feedback-Process-eb64f1de796b4350aeab3bc068e3801f?pvs=21) — and much more.\\n\\nWe've made this document public because we want to learn from you. We're very much interested in your feedback (including weeding out typo's and Dunglish ;)). Email us at hr@blendle.com. If you're starting your own company or if you're curious as to how we do things at Blendle, we hope that our employee handbook inspires you.\\n\\nIf you want to work at Blendle you can check our [job ads here](https://blendle.homerun.co/). If you want to be kept in the loop about Blendle, you can sign up for [our behind the scenes newsletter](https://blendle.homerun.co/yes-keep-me-posted/tr/apply?token=8092d4128c306003d97dd3821bad06f2).\\n\\n## Blendle general\\n\\n*Information gap closing in 3... 2... 1...*\\n\\n---\\n\\n[To Do/Read in your first week](https://www.notion.so/To-Do-Read-in-your-first-week-c43a6a3033ce4eb0b69f813e216d12f2?pvs=21)\\n\\n[History](https://www.notion.so/History-798f3ff9b1d84c61bd01510fda514a18?pvs=21)\\n\\n[DNA & culture](https://www.notion.so/DNA-culture-0a5718be19cb4405ba9c800c67203169?pvs=21)\\n\\n[General & practical ](https://www.notion.so/General-practical-f119b5a8717f4cc884e0af2681eb5675?pvs=21)\\n\\n## People operations\\n\\n*You can tell a company's DNA by looking at how they deal with the practical stuff.*  \\n\\n---\\n\\n[Office](https://www.notion.so/Office-d3311af198ea43dbaf2b34e387b34c7a?pvs=21)\\n\\n[Time off: holidays and national holidays](https://www.notion.so/Time-off-holidays-and-national-holidays-5d63665d27ac4de5be34e3c2a344e579?pvs=21)\\n\\n[Calling in sick/better](https://www.notion.so/Calling-in-sick-better-26a51621a7d9438ebf927d4097a2a3c4?pvs=21)\\n\\n[Perks and benefits](https://www.notion.so/Perks-and-benefits-188c204ca3c14520852e72b239dc5cd0?pvs=21)\\n\\n[Travel costs and reimbursements](https://www.notion.so/Travel-costs-and-reimbursements-91d807ca227e4210853dad06a1bbd19f?pvs=21)\\n\\n[Parenthood](https://www.notion.so/Parenthood-7c42b05bdad74024afe0b586ab789cb6?pvs=21)\\n\\n## People topics\\n\\n*Themes we care about.*\\n\\n---\\n\\n[Blendle Social Code](https://www.notion.so/Blendle-Social-Code-3e2f1aadf7594bc795765abe093f07c5?pvs=21)\\n\\n[Diversity and inclusion](https://www.notion.so/Diversity-and-inclusion-cbfe80b72b8943ca884bd4a1031dc339?pvs=21)\\n\\n[#letstalkaboutstress](https://www.notion.so/letstalkaboutstress-998d93229c824169a4fa9d43a0864ea7?pvs=21)\\n\\n## Feedback and development\\n\\n*The number 1 reason for people to work at Blendle is growth and learning from smart people.*\\n\\n---\\n\\n[Your 1st month ](https://www.notion.so/Your-1st-month-7af34936997b46698cf36c94e45af180?pvs=21)\\n\\n[Goals](https://www.notion.so/Goals-35f6817b4f5e4bf7bf4053bc9ca5d56e?pvs=21)\\n\\n[Feedback cycle](https://www.notion.so/Feedback-cycle-083e9a42b4984c1e864941d0c2b6f019?pvs=21)\\n\\n[The Matrix™ (job profiles)](https://www.notion.so/The-Matrix-job-profiles-2c46855b5dfa4ef4bd1e38d7b383e7ac?pvs=21)\\n\\n[Blendle library](https://www.notion.so/Blendle-library-52ca31cc17c9400799851910c0a50331?pvs=21)\\n\\n## **Hiring**\\n\\n*The coolest and most impactful thing when done right.*\\n\\n---\\n\\n[Rating systems](https://www.notion.so/Rating-systems-d6547cb445d049cba3b65fb03133197a?pvs=21)\\n\\n[Getting people in (branding&sourcing)](https://www.notion.so/Getting-people-in-branding-sourcing-55df638324bd469ea258308b74228b37?pvs=21)\\n\\n[Highly Skilled Migrants and relocation](https://www.notion.so/Highly-Skilled-Migrants-and-relocation-5ec5e2ccccd94dfe96758090bf1d251c?pvs=21)\\n\\n## How to lead at Blendle\\n\\n*Here are some tips and tools to help you become a great leader.*\\n\\n---\\n\\n[How to lead at Blendle ](https://www.notion.so/How-to-lead-at-Blendle-6b0d240046a14b9e8996c5dca9fb89e2?pvs=21)\\n\\n[Your check-list](https://www.notion.so/Your-check-list-2f40a09b458b422493121c20262219e4?pvs=21)\\n\\n[Leading Feedback ](https://www.notion.so/Leading-Feedback-2bb74d9bf83144ada9a65164dcb19dfa?pvs=21)\\n\\n[Salary talks](https://www.notion.so/Salary-talks-6abe1ba46bde49938808a4448ca8f4bd?pvs=21)\\n\\n[Hiring ](https://www.notion.so/Hiring-ca27f4094840415fadd9103cc5f5cc3f?pvs=21)\\n\\n[Firing](https://www.notion.so/Firing-b4f58e8700db4376ae739bd4a59cfe11?pvs=21)\\n\\n[Party and study budget](https://www.notion.so/Party-and-study-budget-c48402adfc53495687ab012a15e39399?pvs=21)\\n\\n[Holidays](https://www.notion.so/Holidays-798243337d164bd5b5a02ba940c3c9af?pvs=21)\\n\\n[Sickness absence](https://www.notion.so/Sickness-absence-36ae158e0b2e47fcbb259a7fa4fc92d9?pvs=21)\\n\\n[Personal User Guide](https://www.notion.so/Personal-User-Guide-9084969600c448faad222d2c993d1969?pvs=21)\\n\\n[Soft shizzle](https://www.notion.so/Soft-shizzle-a80541ee6acf44489d24b4391f66ea3f?pvs=21)\\n\\n## About this document\\n\\n---\\n\\n*Lessons from three years of HR*\\n\\n[About this document and the author](https://www.notion.so/About-this-document-and-the-author-c9074a5cfd744935bdaea2e954d2427e?pvs=21)\""
      ]
     },
     "execution_count": 5,
     "metadata": {},
     "output_type": "execute_result"
    }
   ],
   "source": [
    "docs[0].page_content"
   ]
  },
  {
   "cell_type": "code",
   "execution_count": 7,
   "metadata": {},
   "outputs": [
    {
     "data": {
      "text/plain": [
       "\"# Blendle's Employee Handbook\\n\\nThis is a living document with everything we've learned working with people while running a startup. And, of course, we continue to learn. Therefore it's a document that\""
      ]
     },
     "execution_count": 7,
     "metadata": {},
     "output_type": "execute_result"
    }
   ],
   "source": [
    "docs[0].page_content[0:200]"
   ]
  },
  {
   "cell_type": "code",
   "execution_count": 9,
   "metadata": {},
   "outputs": [
    {
     "name": "stdout",
     "output_type": "stream",
     "text": [
      "# Blendle's Employee Handbook\n",
      "\n",
      "This is a living document with everything we've learned working with people while running a startup. And, of course, we continue to learn. Therefore it's a document that\n"
     ]
    }
   ],
   "source": [
    "print(docs[0].page_content[0:200])"
   ]
  },
  {
   "cell_type": "code",
   "execution_count": 30,
   "metadata": {},
   "outputs": [
    {
     "data": {
      "text/plain": [
       "{'source': \"notion_db\\\\Blendle's Employee Handbook f027b25aa2b14069850d5d551e84c3ac.md\"}"
      ]
     },
     "execution_count": 30,
     "metadata": {},
     "output_type": "execute_result"
    }
   ],
   "source": [
    "docs[0].metadata"
   ]
  },
  {
   "cell_type": "code",
   "execution_count": null,
   "metadata": {},
   "outputs": [],
   "source": []
  },
  {
   "cell_type": "code",
   "execution_count": 1,
   "metadata": {},
   "outputs": [
    {
     "name": "stdout",
     "output_type": "stream",
     "text": [
      "file.txt\n"
     ]
    }
   ],
   "source": [
    "import os\n",
    "\n",
    "file_path = \"/path/to/file.txt\"\n",
    "\n",
    "file_name = os.path.basename(file_path)\n",
    "\n",
    "print(file_name)"
   ]
  }
 ],
 "metadata": {
  "kernelspec": {
   "display_name": "llm-gorilla",
   "language": "python",
   "name": "python3"
  },
  "language_info": {
   "codemirror_mode": {
    "name": "ipython",
    "version": 3
   },
   "file_extension": ".py",
   "mimetype": "text/x-python",
   "name": "python",
   "nbconvert_exporter": "python",
   "pygments_lexer": "ipython3",
   "version": "3.11.5"
  },
  "orig_nbformat": 4
 },
 "nbformat": 4,
 "nbformat_minor": 2
}
