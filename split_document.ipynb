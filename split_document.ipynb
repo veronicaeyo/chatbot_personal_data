{
 "cells": [
  {
   "cell_type": "markdown",
   "metadata": {},
   "source": [
    "## Load Document $\\rightarrow$ **Split Document** $\\rightarrow$ Storage  $\\rightarrow$ retrieval $\\rightarrow$ Storage Output"
   ]
  },
  {
   "cell_type": "markdown",
   "metadata": {},
   "source": [
    "![Steps](image.jpg)"
   ]
  },
  {
   "cell_type": "markdown",
   "metadata": {},
   "source": [
    "### Document splitting"
   ]
  },
  {
   "cell_type": "markdown",
   "metadata": {},
   "source": [
    "### split text"
   ]
  },
  {
   "cell_type": "code",
   "execution_count": 1,
   "metadata": {},
   "outputs": [],
   "source": [
    "from langchain.text_splitter import (\n",
    "    RecursiveCharacterTextSplitter,\n",
    "    CharacterTextSplitter,\n",
    ")\n"
   ]
  },
  {
   "cell_type": "code",
   "execution_count": 2,
   "metadata": {},
   "outputs": [],
   "source": [
    "chunk_size =26\n",
    "chunk_overlap = 4"
   ]
  },
  {
   "cell_type": "code",
   "execution_count": 3,
   "metadata": {},
   "outputs": [],
   "source": [
    "r_splitter = RecursiveCharacterTextSplitter(\n",
    "    chunk_size=chunk_size,\n",
    "    chunk_overlap=chunk_overlap\n",
    ")\n",
    "\n",
    "\n",
    "c_splitter = CharacterTextSplitter(\n",
    "    chunk_size=chunk_size,\n",
    "    chunk_overlap=chunk_overlap\n",
    ")"
   ]
  },
  {
   "cell_type": "code",
   "execution_count": 4,
   "metadata": {},
   "outputs": [],
   "source": [
    "text1 = 'abcdefghijklmnopqrstuvwxyz'"
   ]
  },
  {
   "cell_type": "code",
   "execution_count": 5,
   "metadata": {},
   "outputs": [
    {
     "data": {
      "text/plain": [
       "['abcdefghijklmnopqrstuvwxyz']"
      ]
     },
     "execution_count": 5,
     "metadata": {},
     "output_type": "execute_result"
    }
   ],
   "source": [
    "r_splitter.split_text(text1)"
   ]
  },
  {
   "cell_type": "code",
   "execution_count": 6,
   "metadata": {},
   "outputs": [],
   "source": [
    "TEXT2 = 'abcdefghijklmnopqrstuvwxyzVERONICA'"
   ]
  },
  {
   "cell_type": "code",
   "execution_count": 7,
   "metadata": {},
   "outputs": [
    {
     "data": {
      "text/plain": [
       "['abcdefghijklmnopqrstuvwxyz', 'wxyzVERONICA']"
      ]
     },
     "execution_count": 7,
     "metadata": {},
     "output_type": "execute_result"
    }
   ],
   "source": [
    "r_splitter.split_text(TEXT2)"
   ]
  },
  {
   "cell_type": "code",
   "execution_count": 8,
   "metadata": {},
   "outputs": [],
   "source": [
    "text3 = \"a b c d e f g h i j k l m n o p q r s t u v w x y z\""
   ]
  },
  {
   "cell_type": "code",
   "execution_count": 9,
   "metadata": {},
   "outputs": [
    {
     "data": {
      "text/plain": [
       "['a b c d e f g h i j k l m', 'l m n o p q r s t u v w x', 'w x y z']"
      ]
     },
     "execution_count": 9,
     "metadata": {},
     "output_type": "execute_result"
    }
   ],
   "source": [
    "r_splitter.split_text(text3)"
   ]
  },
  {
   "cell_type": "code",
   "execution_count": 10,
   "metadata": {},
   "outputs": [
    {
     "data": {
      "text/plain": [
       "['a b c d e f g h i j k l m n o p q r s t u v w x y z']"
      ]
     },
     "execution_count": 10,
     "metadata": {},
     "output_type": "execute_result"
    }
   ],
   "source": [
    "c_splitter.split_text(text3)"
   ]
  },
  {
   "cell_type": "code",
   "execution_count": 11,
   "metadata": {},
   "outputs": [
    {
     "data": {
      "text/plain": [
       "['a b c d e f g h i j k l m', 'l m n o p q r s t u v w x', 'w x y z']"
      ]
     },
     "execution_count": 11,
     "metadata": {},
     "output_type": "execute_result"
    }
   ],
   "source": [
    "c_splitter = CharacterTextSplitter(\n",
    "    chunk_size=chunk_size,\n",
    "    chunk_overlap=chunk_overlap,\n",
    "    separator = ' '\n",
    ")\n",
    "c_splitter.split_text(text3)"
   ]
  },
  {
   "cell_type": "code",
   "execution_count": 12,
   "metadata": {},
   "outputs": [],
   "source": [
    "some_text = \"\"\"When writing documents, writers will use document structure to group content. \\\n",
    "This can convey to the reader, which idea's are related. For example, closely related ideas \\\n",
    "are in sentances. Similar ideas are in paragraphs. Paragraphs form a document. \\n\\n  \\\n",
    "Paragraphs are often delimited with a carriage return or two carriage returns. \\\n",
    "Carriage returns are the \"backslash n\" you see embedded in this string. \\\n",
    "Sentences have a period at the end, but also, have a space.\\\n",
    "and words are separated by space.\"\"\""
   ]
  },
  {
   "cell_type": "code",
   "execution_count": 13,
   "metadata": {},
   "outputs": [
    {
     "data": {
      "text/plain": [
       "496"
      ]
     },
     "execution_count": 13,
     "metadata": {},
     "output_type": "execute_result"
    }
   ],
   "source": [
    "len(some_text)"
   ]
  },
  {
   "cell_type": "code",
   "execution_count": 14,
   "metadata": {},
   "outputs": [
    {
     "data": {
      "text/plain": [
       "[\"When writing documents, writers will use document structure to group content. This can convey to the reader, which idea's are related. For example,\",\n",
       " 'closely related ideas are in sentances. Similar ideas are in paragraphs. Paragraphs form a document.',\n",
       " 'Paragraphs are often delimited with a carriage return or two carriage returns. Carriage returns are the \"backslash n\" you see embedded in this',\n",
       " 'string. Sentences have a period at the end, but also, have a space.and words are separated by space.']"
      ]
     },
     "execution_count": 14,
     "metadata": {},
     "output_type": "execute_result"
    }
   ],
   "source": [
    "\n",
    "r_splitter = RecursiveCharacterTextSplitter(\n",
    "    chunk_size=150,\n",
    "    chunk_overlap=0,\n",
    "    separators=[\"\\n\\n\", \"\\n\", \"(?<=\\. )\", \" \", \"\"]\n",
    ")\n",
    "r_splitter.split_text(some_text)\n"
   ]
  },
  {
   "cell_type": "code",
   "execution_count": 15,
   "metadata": {},
   "outputs": [
    {
     "data": {
      "text/plain": [
       "4"
      ]
     },
     "execution_count": 15,
     "metadata": {},
     "output_type": "execute_result"
    }
   ],
   "source": [
    "len(r_splitter.split_text(some_text))"
   ]
  },
  {
   "cell_type": "code",
   "execution_count": 16,
   "metadata": {},
   "outputs": [],
   "source": [
    "c_splitter = CharacterTextSplitter(\n",
    "    chunk_size=450,\n",
    "    chunk_overlap=0,\n",
    "    separator = ' '\n",
    ")"
   ]
  },
  {
   "cell_type": "code",
   "execution_count": 17,
   "metadata": {},
   "outputs": [
    {
     "data": {
      "text/plain": [
       "['When writing documents, writers will use document structure to group content. This can convey to the reader, which idea\\'s are related. For example, closely related ideas are in sentances. Similar ideas are in paragraphs. Paragraphs form a document. \\n\\n Paragraphs are often delimited with a carriage return or two carriage returns. Carriage returns are the \"backslash n\" you see embedded in this string. Sentences have a period at the end, but also,',\n",
       " 'have a space.and words are separated by space.']"
      ]
     },
     "execution_count": 17,
     "metadata": {},
     "output_type": "execute_result"
    }
   ],
   "source": [
    "c_splitter.split_text(some_text)"
   ]
  },
  {
   "cell_type": "code",
   "execution_count": 18,
   "metadata": {},
   "outputs": [
    {
     "data": {
      "text/plain": [
       "2"
      ]
     },
     "execution_count": 18,
     "metadata": {},
     "output_type": "execute_result"
    }
   ],
   "source": [
    "len(c_splitter.split_text(some_text))"
   ]
  },
  {
   "cell_type": "markdown",
   "metadata": {},
   "source": [
    "Split Dpocument"
   ]
  },
  {
   "cell_type": "code",
   "execution_count": 19,
   "metadata": {},
   "outputs": [],
   "source": [
    "from langchain.document_loaders import PyPDFLoader\n",
    "loader = PyPDFLoader(\"docs/morin.pdf\")\n",
    "pages = loader.load()"
   ]
  },
  {
   "cell_type": "code",
   "execution_count": 20,
   "metadata": {},
   "outputs": [
    {
     "data": {
      "text/plain": [
       "11"
      ]
     },
     "execution_count": 20,
     "metadata": {},
     "output_type": "execute_result"
    }
   ],
   "source": [
    "len(pages)"
   ]
  },
  {
   "cell_type": "code",
   "execution_count": 21,
   "metadata": {},
   "outputs": [],
   "source": [
    "from langchain.text_splitter import CharacterTextSplitter\n",
    "text_splitter = CharacterTextSplitter(\n",
    "    separator=\"\\n\",\n",
    "    chunk_size=50,\n",
    "    chunk_overlap=3,\n",
    "    length_function=len\n",
    ")"
   ]
  },
  {
   "cell_type": "code",
   "execution_count": 22,
   "metadata": {},
   "outputs": [
    {
     "name": "stderr",
     "output_type": "stream",
     "text": [
      "Created a chunk of size 746, which is longer than the specified 50\n"
     ]
    }
   ],
   "source": [
    "docs = text_splitter.split_documents(pages)"
   ]
  },
  {
   "cell_type": "code",
   "execution_count": 23,
   "metadata": {},
   "outputs": [
    {
     "data": {
      "text/plain": [
       "13"
      ]
     },
     "execution_count": 23,
     "metadata": {},
     "output_type": "execute_result"
    }
   ],
   "source": [
    "len(docs)"
   ]
  },
  {
   "cell_type": "code",
   "execution_count": 24,
   "metadata": {},
   "outputs": [
    {
     "name": "stdout",
     "output_type": "stream",
     "text": [
      "For stir fry: Have everything ready as this cooks quick. Slice your mushrooms, thinly slice peppers, green beans can stay whole, diced chosen veg and dice spring onions. In a large hot frying pan add the and coconut oil and go straight in with the beef, after about 3-4 mins it should be crispy and brown. Now add all your vegetables along with the ginger, chilli and garlic. Add a splash of water and cook for a maximum of 2 minutes.To serve: In the ﬁnal 30 seconds of cooking add soy sauce, and vinegar.Sweet Potato & Coconut Soup: A refreshing blend of sweet po-tato and soothing coconut with a twist of lemon.V eggie Omelette Recipe2 Tablespoon of Sunﬂower Oil1 small onion, chopped½  green pepper, chopped3 eggsSalt to Taste25g of any ﬁsh50g of Mushroom, 1 TomatoMethodHeat 1 tablespoon oil in a medium frying pan over medium heat. Cook the onion, tomato, mushroom, ﬁsh, pepper in the oil for few minutes, stirring occasionally until vegetables are just tender. While the vegetables are cooking beat the eggs, salt and pepper. Remove the vegetables from heat, transfer them to a clean bowl.Heat the remaining 1tbsp of oil (in the frying pan just used to cook the vegetables) over medium heat. When the oil is hot add the egg mixture and cook the egg for 2 minutes or until the eggs begin to set on the bottom of the pan. Gently lift the edges of the omelette with an egg slice to let the uncooked part of the eggs ﬂow toward the edges and cook. Continue cooking for 2 to 3 minutes or until the center of the omelette starts to look dry . Toss and serve.8\n"
     ]
    }
   ],
   "source": [
    "print(docs[10].page_content)"
   ]
  },
  {
   "cell_type": "code",
   "execution_count": 25,
   "metadata": {},
   "outputs": [
    {
     "data": {
      "text/plain": [
       "{'source': 'docs/morin.pdf', 'page': 0}"
      ]
     },
     "execution_count": 25,
     "metadata": {},
     "output_type": "execute_result"
    }
   ],
   "source": [
    "docs[0].metadata"
   ]
  },
  {
   "cell_type": "markdown",
   "metadata": {},
   "source": [
    "### Split Notion"
   ]
  },
  {
   "cell_type": "code",
   "execution_count": 26,
   "metadata": {},
   "outputs": [],
   "source": [
    "from langchain.document_loaders import NotionDirectoryLoader\n",
    "loader = NotionDirectoryLoader(\"docs/notion_db\")\n",
    "notion_db = loader.load()"
   ]
  },
  {
   "cell_type": "code",
   "execution_count": 27,
   "metadata": {},
   "outputs": [
    {
     "name": "stderr",
     "output_type": "stream",
     "text": [
      "Created a chunk of size 195, which is longer than the specified 50\n",
      "Created a chunk of size 84, which is longer than the specified 50\n",
      "Created a chunk of size 627, which is longer than the specified 50\n",
      "Created a chunk of size 327, which is longer than the specified 50\n",
      "Created a chunk of size 294, which is longer than the specified 50\n",
      "Created a chunk of size 124, which is longer than the specified 50\n",
      "Created a chunk of size 80, which is longer than the specified 50\n",
      "Created a chunk of size 90, which is longer than the specified 50\n",
      "Created a chunk of size 103, which is longer than the specified 50\n",
      "Created a chunk of size 86, which is longer than the specified 50\n",
      "Created a chunk of size 78, which is longer than the specified 50\n",
      "Created a chunk of size 145, which is longer than the specified 50\n",
      "Created a chunk of size 110, which is longer than the specified 50\n",
      "Created a chunk of size 102, which is longer than the specified 50\n",
      "Created a chunk of size 128, which is longer than the specified 50\n",
      "Created a chunk of size 86, which is longer than the specified 50\n",
      "Created a chunk of size 104, which is longer than the specified 50\n",
      "Created a chunk of size 112, which is longer than the specified 50\n",
      "Created a chunk of size 105, which is longer than the specified 50\n",
      "Created a chunk of size 93, which is longer than the specified 50\n",
      "Created a chunk of size 95, which is longer than the specified 50\n",
      "Created a chunk of size 76, which is longer than the specified 50\n",
      "Created a chunk of size 94, which is longer than the specified 50\n",
      "Created a chunk of size 115, which is longer than the specified 50\n",
      "Created a chunk of size 96, which is longer than the specified 50\n",
      "Created a chunk of size 55, which is longer than the specified 50\n",
      "Created a chunk of size 94, which is longer than the specified 50\n",
      "Created a chunk of size 138, which is longer than the specified 50\n",
      "Created a chunk of size 142, which is longer than the specified 50\n",
      "Created a chunk of size 65, which is longer than the specified 50\n",
      "Created a chunk of size 111, which is longer than the specified 50\n",
      "Created a chunk of size 96, which is longer than the specified 50\n",
      "Created a chunk of size 99, which is longer than the specified 50\n",
      "Created a chunk of size 90, which is longer than the specified 50\n",
      "Created a chunk of size 79, which is longer than the specified 50\n",
      "Created a chunk of size 78, which is longer than the specified 50\n",
      "Created a chunk of size 110, which is longer than the specified 50\n",
      "Created a chunk of size 82, which is longer than the specified 50\n",
      "Created a chunk of size 98, which is longer than the specified 50\n",
      "Created a chunk of size 104, which is longer than the specified 50\n",
      "Created a chunk of size 90, which is longer than the specified 50\n"
     ]
    },
    {
     "data": {
      "text/plain": [
       "56"
      ]
     },
     "execution_count": 27,
     "metadata": {},
     "output_type": "execute_result"
    }
   ],
   "source": [
    "docs = text_splitter.split_documents(notion_db)\n",
    "len(docs)"
   ]
  },
  {
   "cell_type": "code",
   "execution_count": 28,
   "metadata": {},
   "outputs": [
    {
     "name": "stdout",
     "output_type": "stream",
     "text": [
      "# Blendle's Employee Handbook\n"
     ]
    }
   ],
   "source": [
    "print(docs[0].page_content)"
   ]
  },
  {
   "cell_type": "markdown",
   "metadata": {},
   "source": [
    "### Context Awaee Splitting"
   ]
  },
  {
   "cell_type": "code",
   "execution_count": 29,
   "metadata": {},
   "outputs": [],
   "source": [
    "from langchain.document_loaders import NotionDirectoryLoader\n",
    "from langchain.text_splitter import MarkdownHeaderTextSplitter"
   ]
  },
  {
   "cell_type": "code",
   "execution_count": 30,
   "metadata": {},
   "outputs": [],
   "source": [
    "markdown_document = \"\"\"# Title\\n\\n \\\n",
    "## Chapter 1\\n\\n \\\n",
    "Hi this is Jim\\n\\n Hi this is Joe\\n\\n \\\n",
    "### Section \\n\\n \\\n",
    "Hi this is Lance \\n\\n \n",
    "## Chapter 2\\n\\n \\\n",
    "Hi this is Molly\"\"\""
   ]
  },
  {
   "cell_type": "code",
   "execution_count": 31,
   "metadata": {},
   "outputs": [],
   "source": [
    "headers_to_split_on = [\n",
    "    (\"#\", \"Header 1\"),\n",
    "    (\"##\", \"Header 2\"),\n",
    "    (\"###\", \"Header 3\"),\n",
    "]"
   ]
  },
  {
   "cell_type": "code",
   "execution_count": 32,
   "metadata": {},
   "outputs": [],
   "source": [
    "markdown_splitter = MarkdownHeaderTextSplitter(\n",
    "    headers_to_split_on=headers_to_split_on\n",
    ")\n",
    "md_header_splits = markdown_splitter.split_text(markdown_document)"
   ]
  },
  {
   "cell_type": "code",
   "execution_count": 33,
   "metadata": {},
   "outputs": [
    {
     "data": {
      "text/plain": [
       "'Hi this is Jim  \\nHi this is Joe'"
      ]
     },
     "execution_count": 33,
     "metadata": {},
     "output_type": "execute_result"
    }
   ],
   "source": [
    "md_header_splits[0].page_content"
   ]
  },
  {
   "cell_type": "code",
   "execution_count": 34,
   "metadata": {},
   "outputs": [
    {
     "data": {
      "text/plain": [
       "{'Header 1': 'Title', 'Header 2': 'Chapter 1', 'Header 3': 'Section'}"
      ]
     },
     "execution_count": 34,
     "metadata": {},
     "output_type": "execute_result"
    }
   ],
   "source": [
    "md_header_splits[1].metadata"
   ]
  },
  {
   "cell_type": "code",
   "execution_count": 35,
   "metadata": {},
   "outputs": [
    {
     "data": {
      "text/plain": [
       "[Document(page_content=\"# Blendle's Employee Handbook\\n\\nThis is a living document with everything we've learned working with people while running a startup. And, of course, we continue to learn. Therefore it's a document that will continue to change. \\n\\n**Everything related to working at Blendle and the people of Blendle, made public.**\\n\\nThese are the lessons from three years of working with the people of Blendle. It contains everything from [how our leaders lead](https://www.notion.so/ecfb7e647136468a9a0a32f1771a8f52?pvs=21) to [how we increase salaries](https://www.notion.so/Salary-Review-e11b6161c6d34f5c9568bb3e83ed96b6?pvs=21), from [how we hire](https://www.notion.so/Hiring-451bbcfe8d9b49438c0633326bb7af0a?pvs=21) and [fire](https://www.notion.so/Firing-5567687a2000496b8412e53cd58eed9d?pvs=21) to [how we think people should give each other feedback](https://www.notion.so/Our-Feedback-Process-eb64f1de796b4350aeab3bc068e3801f?pvs=21) — and much more.\\n\\nWe've made this document public because we want to learn from you. We're very much interested in your feedback (including weeding out typo's and Dunglish ;)). Email us at hr@blendle.com. If you're starting your own company or if you're curious as to how we do things at Blendle, we hope that our employee handbook inspires you.\\n\\nIf you want to work at Blendle you can check our [job ads here](https://blendle.homerun.co/). If you want to be kept in the loop about Blendle, you can sign up for [our behind the scenes newsletter](https://blendle.homerun.co/yes-keep-me-posted/tr/apply?token=8092d4128c306003d97dd3821bad06f2).\\n\\n## Blendle general\\n\\n*Information gap closing in 3... 2... 1...*\\n\\n---\\n\\n[To Do/Read in your first week](https://www.notion.so/To-Do-Read-in-your-first-week-c43a6a3033ce4eb0b69f813e216d12f2?pvs=21)\\n\\n[History](https://www.notion.so/History-798f3ff9b1d84c61bd01510fda514a18?pvs=21)\\n\\n[DNA & culture](https://www.notion.so/DNA-culture-0a5718be19cb4405ba9c800c67203169?pvs=21)\\n\\n[General & practical ](https://www.notion.so/General-practical-f119b5a8717f4cc884e0af2681eb5675?pvs=21)\\n\\n## People operations\\n\\n*You can tell a company's DNA by looking at how they deal with the practical stuff.*  \\n\\n---\\n\\n[Office](https://www.notion.so/Office-d3311af198ea43dbaf2b34e387b34c7a?pvs=21)\\n\\n[Time off: holidays and national holidays](https://www.notion.so/Time-off-holidays-and-national-holidays-5d63665d27ac4de5be34e3c2a344e579?pvs=21)\\n\\n[Calling in sick/better](https://www.notion.so/Calling-in-sick-better-26a51621a7d9438ebf927d4097a2a3c4?pvs=21)\\n\\n[Perks and benefits](https://www.notion.so/Perks-and-benefits-188c204ca3c14520852e72b239dc5cd0?pvs=21)\\n\\n[Travel costs and reimbursements](https://www.notion.so/Travel-costs-and-reimbursements-91d807ca227e4210853dad06a1bbd19f?pvs=21)\\n\\n[Parenthood](https://www.notion.so/Parenthood-7c42b05bdad74024afe0b586ab789cb6?pvs=21)\\n\\n## People topics\\n\\n*Themes we care about.*\\n\\n---\\n\\n[Blendle Social Code](https://www.notion.so/Blendle-Social-Code-3e2f1aadf7594bc795765abe093f07c5?pvs=21)\\n\\n[Diversity and inclusion](https://www.notion.so/Diversity-and-inclusion-cbfe80b72b8943ca884bd4a1031dc339?pvs=21)\\n\\n[#letstalkaboutstress](https://www.notion.so/letstalkaboutstress-998d93229c824169a4fa9d43a0864ea7?pvs=21)\\n\\n## Feedback and development\\n\\n*The number 1 reason for people to work at Blendle is growth and learning from smart people.*\\n\\n---\\n\\n[Your 1st month ](https://www.notion.so/Your-1st-month-7af34936997b46698cf36c94e45af180?pvs=21)\\n\\n[Goals](https://www.notion.so/Goals-35f6817b4f5e4bf7bf4053bc9ca5d56e?pvs=21)\\n\\n[Feedback cycle](https://www.notion.so/Feedback-cycle-083e9a42b4984c1e864941d0c2b6f019?pvs=21)\\n\\n[The Matrix™ (job profiles)](https://www.notion.so/The-Matrix-job-profiles-2c46855b5dfa4ef4bd1e38d7b383e7ac?pvs=21)\\n\\n[Blendle library](https://www.notion.so/Blendle-library-52ca31cc17c9400799851910c0a50331?pvs=21)\\n\\n## **Hiring**\\n\\n*The coolest and most impactful thing when done right.*\\n\\n---\\n\\n[Rating systems](https://www.notion.so/Rating-systems-d6547cb445d049cba3b65fb03133197a?pvs=21)\\n\\n[Getting people in (branding&sourcing)](https://www.notion.so/Getting-people-in-branding-sourcing-55df638324bd469ea258308b74228b37?pvs=21)\\n\\n[Highly Skilled Migrants and relocation](https://www.notion.so/Highly-Skilled-Migrants-and-relocation-5ec5e2ccccd94dfe96758090bf1d251c?pvs=21)\\n\\n## How to lead at Blendle\\n\\n*Here are some tips and tools to help you become a great leader.*\\n\\n---\\n\\n[How to lead at Blendle ](https://www.notion.so/How-to-lead-at-Blendle-6b0d240046a14b9e8996c5dca9fb89e2?pvs=21)\\n\\n[Your check-list](https://www.notion.so/Your-check-list-2f40a09b458b422493121c20262219e4?pvs=21)\\n\\n[Leading Feedback ](https://www.notion.so/Leading-Feedback-2bb74d9bf83144ada9a65164dcb19dfa?pvs=21)\\n\\n[Salary talks](https://www.notion.so/Salary-talks-6abe1ba46bde49938808a4448ca8f4bd?pvs=21)\\n\\n[Hiring ](https://www.notion.so/Hiring-ca27f4094840415fadd9103cc5f5cc3f?pvs=21)\\n\\n[Firing](https://www.notion.so/Firing-b4f58e8700db4376ae739bd4a59cfe11?pvs=21)\\n\\n[Party and study budget](https://www.notion.so/Party-and-study-budget-c48402adfc53495687ab012a15e39399?pvs=21)\\n\\n[Holidays](https://www.notion.so/Holidays-798243337d164bd5b5a02ba940c3c9af?pvs=21)\\n\\n[Sickness absence](https://www.notion.so/Sickness-absence-36ae158e0b2e47fcbb259a7fa4fc92d9?pvs=21)\\n\\n[Personal User Guide](https://www.notion.so/Personal-User-Guide-9084969600c448faad222d2c993d1969?pvs=21)\\n\\n[Soft shizzle](https://www.notion.so/Soft-shizzle-a80541ee6acf44489d24b4391f66ea3f?pvs=21)\\n\\n## About this document\\n\\n---\\n\\n*Lessons from three years of HR*\\n\\n[About this document and the author](https://www.notion.so/About-this-document-and-the-author-c9074a5cfd744935bdaea2e954d2427e?pvs=21)\", metadata={'source': \"docs\\\\notion_db\\\\Blendle's Employee Handbook f027b25aa2b14069850d5d551e84c3ac.md\"})]"
      ]
     },
     "execution_count": 35,
     "metadata": {},
     "output_type": "execute_result"
    }
   ],
   "source": [
    "notion_db"
   ]
  },
  {
   "cell_type": "markdown",
   "metadata": {},
   "source": [
    "###"
   ]
  },
  {
   "cell_type": "code",
   "execution_count": 36,
   "metadata": {},
   "outputs": [
    {
     "name": "stdout",
     "output_type": "stream",
     "text": [
      "# Blendle's Employee Handbook\n",
      "\n",
      "This is a living document with everything we've learned working with people while running a startup. And, of course, we continue to learn. Therefore it's a document that will continue to change. \n",
      "\n",
      "**Everything related to working at Blendle and the people of Blendle, made public.**\n",
      "\n",
      "These are the lessons from three years of working with the people of Blendle. It contains everything from [how our leaders lead](https://www.notion.so/ecfb7e647136468a9a0a32f1771a8f52?pvs=21) to [how we increase salaries](https://www.notion.so/Salary-Review-e11b6161c6d34f5c9568bb3e83ed96b6?pvs=21), from [how we hire](https://www.notion.so/Hiring-451bbcfe8d9b49438c0633326bb7af0a?pvs=21) and [fire](https://www.notion.so/Firing-5567687a2000496b8412e53cd58eed9d?pvs=21) to [how we think people should give each other feedback](https://www.notion.so/Our-Feedback-Process-eb64f1de796b4350aeab3bc068e3801f?pvs=21) — and much more.\n",
      "\n",
      "We've made this document public because we want to learn from you. We're very much interested in your feedback (including weeding out typo's and Dunglish ;)). Email us at hr@blendle.com. If you're starting your own company or if you're curious as to how we do things at Blendle, we hope that our employee handbook inspires you.\n",
      "\n",
      "If you want to work at Blendle you can check our [job ads here](https://blendle.homerun.co/). If you want to be kept in the loop about Blendle, you can sign up for [our behind the scenes newsletter](https://blendle.homerun.co/yes-keep-me-posted/tr/apply?token=8092d4128c306003d97dd3821bad06f2).\n",
      "\n",
      "## Blendle general\n",
      "\n",
      "*Information gap closing in 3... 2... 1...*\n",
      "\n",
      "---\n",
      "\n",
      "[To Do/Read in your first week](https://www.notion.so/To-Do-Read-in-your-first-week-c43a6a3033ce4eb0b69f813e216d12f2?pvs=21)\n",
      "\n",
      "[History](https://www.notion.so/History-798f3ff9b1d84c61bd01510fda514a18?pvs=21)\n",
      "\n",
      "[DNA & culture](https://www.notion.so/DNA-culture-0a5718be19cb4405ba9c800c67203169?pvs=21)\n",
      "\n",
      "[General & practical ](https://www.notion.so/General-practical-f119b5a8717f4cc884e0af2681eb5675?pvs=21)\n",
      "\n",
      "## People operations\n",
      "\n",
      "*You can tell a company's DNA by looking at how they deal with the practical stuff.*  \n",
      "\n",
      "---\n",
      "\n",
      "[Office](https://www.notion.so/Office-d3311af198ea43dbaf2b34e387b34c7a?pvs=21)\n",
      "\n",
      "[Time off: holidays and national holidays](https://www.notion.so/Time-off-holidays-and-national-holidays-5d63665d27ac4de5be34e3c2a344e579?pvs=21)\n",
      "\n",
      "[Calling in sick/better](https://www.notion.so/Calling-in-sick-better-26a51621a7d9438ebf927d4097a2a3c4?pvs=21)\n",
      "\n",
      "[Perks and benefits](https://www.notion.so/Perks-and-benefits-188c204ca3c14520852e72b239dc5cd0?pvs=21)\n",
      "\n",
      "[Travel costs and reimbursements](https://www.notion.so/Travel-costs-and-reimbursements-91d807ca227e4210853dad06a1bbd19f?pvs=21)\n",
      "\n",
      "[Parenthood](https://www.notion.so/Parenthood-7c42b05bdad74024afe0b586ab789cb6?pvs=21)\n",
      "\n",
      "## People topics\n",
      "\n",
      "*Themes we care about.*\n",
      "\n",
      "---\n",
      "\n",
      "[Blendle Social Code](https://www.notion.so/Blendle-Social-Code-3e2f1aadf7594bc795765abe093f07c5?pvs=21)\n",
      "\n",
      "[Diversity and inclusion](https://www.notion.so/Diversity-and-inclusion-cbfe80b72b8943ca884bd4a1031dc339?pvs=21)\n",
      "\n",
      "[#letstalkaboutstress](https://www.notion.so/letstalkaboutstress-998d93229c824169a4fa9d43a0864ea7?pvs=21)\n",
      "\n",
      "## Feedback and development\n",
      "\n",
      "*The number 1 reason for people to work at Blendle is growth and learning from smart people.*\n",
      "\n",
      "---\n",
      "\n",
      "[Your 1st month ](https://www.notion.so/Your-1st-month-7af34936997b46698cf36c94e45af180?pvs=21)\n",
      "\n",
      "[Goals](https://www.notion.so/Goals-35f6817b4f5e4bf7bf4053bc9ca5d56e?pvs=21)\n",
      "\n",
      "[Feedback cycle](https://www.notion.so/Feedback-cycle-083e9a42b4984c1e864941d0c2b6f019?pvs=21)\n",
      "\n",
      "[The Matrix™ (job profiles)](https://www.notion.so/The-Matrix-job-profiles-2c46855b5dfa4ef4bd1e38d7b383e7ac?pvs=21)\n",
      "\n",
      "[Blendle library](https://www.notion.so/Blendle-library-52ca31cc17c9400799851910c0a50331?pvs=21)\n",
      "\n",
      "## **Hiring**\n",
      "\n",
      "*The coolest and most impactful thing when done right.*\n",
      "\n",
      "---\n",
      "\n",
      "[Rating systems](https://www.notion.so/Rating-systems-d6547cb445d049cba3b65fb03133197a?pvs=21)\n",
      "\n",
      "[Getting people in (branding&sourcing)](https://www.notion.so/Getting-people-in-branding-sourcing-55df638324bd469ea258308b74228b37?pvs=21)\n",
      "\n",
      "[Highly Skilled Migrants and relocation](https://www.notion.so/Highly-Skilled-Migrants-and-relocation-5ec5e2ccccd94dfe96758090bf1d251c?pvs=21)\n",
      "\n",
      "## How to lead at Blendle\n",
      "\n",
      "*Here are some tips and tools to help you become a great leader.*\n",
      "\n",
      "---\n",
      "\n",
      "[How to lead at Blendle ](https://www.notion.so/How-to-lead-at-Blendle-6b0d240046a14b9e8996c5dca9fb89e2?pvs=21)\n",
      "\n",
      "[Your check-list](https://www.notion.so/Your-check-list-2f40a09b458b422493121c20262219e4?pvs=21)\n",
      "\n",
      "[Leading Feedback ](https://www.notion.so/Leading-Feedback-2bb74d9bf83144ada9a65164dcb19dfa?pvs=21)\n",
      "\n",
      "[Salary talks](https://www.notion.so/Salary-talks-6abe1ba46bde49938808a4448ca8f4bd?pvs=21)\n",
      "\n",
      "[Hiring ](https://www.notion.so/Hiring-ca27f4094840415fadd9103cc5f5cc3f?pvs=21)\n",
      "\n",
      "[Firing](https://www.notion.so/Firing-b4f58e8700db4376ae739bd4a59cfe11?pvs=21)\n",
      "\n",
      "[Party and study budget](https://www.notion.so/Party-and-study-budget-c48402adfc53495687ab012a15e39399?pvs=21)\n",
      "\n",
      "[Holidays](https://www.notion.so/Holidays-798243337d164bd5b5a02ba940c3c9af?pvs=21)\n",
      "\n",
      "[Sickness absence](https://www.notion.so/Sickness-absence-36ae158e0b2e47fcbb259a7fa4fc92d9?pvs=21)\n",
      "\n",
      "[Personal User Guide](https://www.notion.so/Personal-User-Guide-9084969600c448faad222d2c993d1969?pvs=21)\n",
      "\n",
      "[Soft shizzle](https://www.notion.so/Soft-shizzle-a80541ee6acf44489d24b4391f66ea3f?pvs=21)\n",
      "\n",
      "## About this document\n",
      "\n",
      "---\n",
      "\n",
      "*Lessons from three years of HR*\n",
      "\n",
      "[About this document and the author](https://www.notion.so/About-this-document-and-the-author-c9074a5cfd744935bdaea2e954d2427e?pvs=21)\n"
     ]
    }
   ],
   "source": [
    "notion_txt = \" \".join([file.page_content for file in notion_db])\n",
    "print(notion_txt)"
   ]
  },
  {
   "cell_type": "code",
   "execution_count": 37,
   "metadata": {},
   "outputs": [],
   "source": [
    "# txr = \" \"\n",
    "# for file in notion_db:\n",
    "#     txr += file.page_content \n"
   ]
  },
  {
   "cell_type": "code",
   "execution_count": 38,
   "metadata": {},
   "outputs": [],
   "source": [
    "# print(txr)"
   ]
  },
  {
   "cell_type": "markdown",
   "metadata": {},
   "source": [
    "### Token Splitting"
   ]
  },
  {
   "cell_type": "code",
   "execution_count": 39,
   "metadata": {},
   "outputs": [],
   "source": [
    "from langchain.text_splitter import TokenTextSplitter"
   ]
  },
  {
   "cell_type": "code",
   "execution_count": 40,
   "metadata": {},
   "outputs": [],
   "source": [
    "text_splitter = TokenTextSplitter(chunk_size=1, chunk_overlap=0)"
   ]
  },
  {
   "cell_type": "code",
   "execution_count": 41,
   "metadata": {},
   "outputs": [
    {
     "data": {
      "text/plain": [
       "[' I', ' am', ' a', ' great', ' lady']"
      ]
     },
     "execution_count": 41,
     "metadata": {},
     "output_type": "execute_result"
    }
   ],
   "source": [
    "text_splitter.split_text(\" I am a great lady\")"
   ]
  },
  {
   "cell_type": "code",
   "execution_count": 42,
   "metadata": {},
   "outputs": [],
   "source": [
    "text1 = \"No questions asked\""
   ]
  },
  {
   "cell_type": "code",
   "execution_count": 43,
   "metadata": {},
   "outputs": [
    {
     "data": {
      "text/plain": [
       "['No', ' questions', ' asked']"
      ]
     },
     "execution_count": 43,
     "metadata": {},
     "output_type": "execute_result"
    }
   ],
   "source": [
    "text_splitter.split_text(text1)"
   ]
  },
  {
   "cell_type": "code",
   "execution_count": 44,
   "metadata": {},
   "outputs": [
    {
     "data": {
      "text/plain": [
       "['No',\n",
       " 'qu',\n",
       " 'que',\n",
       " 'ues',\n",
       " 'est',\n",
       " 'sti',\n",
       " 'tio',\n",
       " 'ion',\n",
       " 'ons',\n",
       " 'as',\n",
       " 'ask',\n",
       " 'ske',\n",
       " 'ked']"
      ]
     },
     "execution_count": 44,
     "metadata": {},
     "output_type": "execute_result"
    }
   ],
   "source": [
    "a_splitter = RecursiveCharacterTextSplitter(chunk_size=3, chunk_overlap=2)\n",
    "a_splitter.split_text(text1)"
   ]
  },
  {
   "cell_type": "code",
   "execution_count": null,
   "metadata": {},
   "outputs": [],
   "source": []
  },
  {
   "cell_type": "code",
   "execution_count": null,
   "metadata": {},
   "outputs": [],
   "source": []
  }
 ],
 "metadata": {
  "kernelspec": {
   "display_name": "llm-gorilla",
   "language": "python",
   "name": "python3"
  },
  "language_info": {
   "codemirror_mode": {
    "name": "ipython",
    "version": 3
   },
   "file_extension": ".py",
   "mimetype": "text/x-python",
   "name": "python",
   "nbconvert_exporter": "python",
   "pygments_lexer": "ipython3",
   "version": "3.11.3"
  },
  "orig_nbformat": 4
 },
 "nbformat": 4,
 "nbformat_minor": 2
}
